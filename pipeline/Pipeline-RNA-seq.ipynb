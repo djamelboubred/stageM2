{
 "cells": [
  {
   "cell_type": "markdown",
   "id": "55e5f43c",
   "metadata": {},
   "source": [
    "# Pipeline RNA-seq"
   ]
  },
  {
   "cell_type": "markdown",
   "id": "ed0f1e34",
   "metadata": {},
   "source": [
    "## CUTADAPT"
   ]
  },
  {
   "cell_type": "raw",
   "id": "807f79ae",
   "metadata": {},
   "source": [
    "Nous avons utilisé l'outil cutadapt pour l'étape de nétoyage des données.\n",
    "Les XXXXX représentent les armorces utilisés par la technologie Illumina."
   ]
  },
  {
   "cell_type": "code",
   "execution_count": null,
   "id": "01e39fbe",
   "metadata": {},
   "outputs": [],
   "source": [
    "cutadapt -j 12 -q 30,30 -m 35 -O 7 \\\n",
    "        -b XXXXXXXX -B XXXXXXXXXXXX"
   ]
  },
  {
   "cell_type": "markdown",
   "id": "ff670c8e",
   "metadata": {},
   "source": [
    "# Approche K-mer"
   ]
  },
  {
   "cell_type": "markdown",
   "id": "520612c2",
   "metadata": {},
   "source": [
    "## DEKUPL"
   ]
  },
  {
   "cell_type": "markdown",
   "id": "f473d6cb",
   "metadata": {},
   "source": [
    "#### EXPRESSION DIFFERENTIEL"
   ]
  },
  {
   "cell_type": "markdown",
   "id": "cb260653",
   "metadata": {},
   "source": [
    "#### INPUT"
   ]
  },
  {
   "cell_type": "markdown",
   "id": "13242275",
   "metadata": {},
   "source": [
    "input:\n",
    "- config.json\n",
    "- dekupl-run.img\n",
    "\n",
    "L'outil DEKUPL que nous avons utilisé est un pipeline sous le format snakemake qui va prendre en entrée un fichier de configuration, contenant les informations utilisé par l'ensemble des outils comme jellyfish (pour la table d'abondance), les seuils de pvalue et de FDR (lors de l'analyse statistique avec le packages DEseq2) etc (tout est expliqué dans la documentation du github de DEKUPL => https://github.com/Transipedia/dekupl-run\n",
    "\n",
    "Exemple des paramètre du fichier config.json:\n",
    "\n",
    "diff_methods => choix de la méthode pour l'analyse différentiel\n",
    "\n",
    "data_type => Permet de lancé l'outil DEKUPL sans utilisé de référence (L'outils utilise la référence humaine (possibilité de désactivé)."
   ]
  },
  {
   "cell_type": "markdown",
   "id": "d58996ba",
   "metadata": {},
   "source": [
    "### COMMANDE"
   ]
  },
  {
   "cell_type": "markdown",
   "id": "c354d078",
   "metadata": {},
   "source": [
    "Commande Bash pour lancé l'outils DEKUPL:"
   ]
  },
  {
   "cell_type": "code",
   "execution_count": null,
   "id": "a8c11916",
   "metadata": {},
   "outputs": [],
   "source": [
    "%%bash\n",
    "singularity run image/dekupl-run.img --configfile config.json -j 9 --ressources ram=20000 -p"
   ]
  },
  {
   "cell_type": "markdown",
   "id": "f234aee0",
   "metadata": {},
   "source": [
    "### OUTPUT"
   ]
  },
  {
   "cell_type": "markdown",
   "id": "e1dc78d9",
   "metadata": {},
   "source": [
    "L'outils créer plusieurs fichier intermédaire comme un fichier contenant l'ensemble des pvalues associé à chaque kmer, les tables de comptages présentes pour chaque échantillons, une matrice des abondances de kmer, une matrice contnant les kmer trouvé De en fonction des seuil choisis en input, avec les log2FC, les pvalue associé."
   ]
  },
  {
   "cell_type": "markdown",
   "id": "19934077",
   "metadata": {},
   "source": [
    "OUTPUT: diff-counts.tsv  \n",
    "\n",
    "|tag|pvalue|meanA|meanB|log2FC|RC1|RC2|RC3|RC5|RC6|RC7|RC8|RC9|RC10|RS1|RS2|RS3|RS4|RS5|RS6|RS7|RS8|RS10|\n",
    "|---|------|-----|-----|------|---|---|---|---|---|---|---|---|----|---|---|---|---|---|---|---|---|----|\n",
    "|AAAAAAAAAAAAAAAAAAAAAAAAAAAAAAC|4.20378804183321e-67|8.63539545864017|69.663581259201|3.02693059366878|6.21217947483477|4.88860953977233|8.72149434084036|9.16014388087816|8.69132810322318|12.8018115985836|13.9431607053845|5.89953533784795|7.40029614639669|74.9162700511193|72.4851902807309|71.7218111765533|68.6567983961772|60.9638382832583|72.5478816018572|63.5218693401627|68.9376846416892|73.2208875612604|\n",
    "|AAAAAAAAAAAAAAAAAAAAAAAAAAAAAGT|0.000219182949844764|0.498349895691011|5.337454146431|3.55810867156966|0|1.39674558279209|0|0|0|0|1.74289508817306|0|1.34550839025394|7.34473235795288|11.3702259263892|7.17218111765533|0|6.35039982117274|4.9464464728539|4.6479416590363|0\t6.20515996281868|\n",
    "\n"
   ]
  },
  {
   "cell_type": "markdown",
   "id": "9215b0c8",
   "metadata": {},
   "source": [
    "### ANNOTATION FILE"
   ]
  },
  {
   "cell_type": "markdown",
   "id": "4fdc7522",
   "metadata": {},
   "source": [
    "Dans cette partie nous utilisons quelques commande bash dans le but de créer notre fichier d'annotations final pour la suite de l'analyse."
   ]
  },
  {
   "cell_type": "code",
   "execution_count": null,
   "id": "c6f852c1",
   "metadata": {},
   "outputs": [],
   "source": [
    "%%bash\n",
    "gene.gff = 'africanRice_nrctgs_V1.blastp.ipr.gff'\n",
    "gene2.gff = 'oryza_glaberrima_core_3_87_4.chr8.chr.renamed.blastp2.iprsca.gff' "
   ]
  },
  {
   "cell_type": "markdown",
   "id": "ec8d0e25",
   "metadata": {},
   "source": [
    "L'ensemble des fichier d'annotation est fournis par Christine Tranchant dans le cadre de son sujet de thèse.\n",
    "Nous avons donc deux fichier d'annotation qui ont environ 22 765 gènes Pour le fichier {gene.gff} et environ 40 553 gène annoter pour le fichier {gene2.gff}"
   ]
  },
  {
   "cell_type": "markdown",
   "id": "76e9f777",
   "metadata": {},
   "source": [
    "Nous avons décider d'utiliser les 2 fichier d'annotation, ainsi on concatène les deux fichier ensemble pour créer le ficheir gene_60k.gff, qui contient donc nos 60 000 gène annoter."
   ]
  },
  {
   "cell_type": "code",
   "execution_count": null,
   "id": "409ccf1a",
   "metadata": {},
   "outputs": [],
   "source": [
    "%%bash\n",
    "cat ${gene.gff} ${gene2.gff} > file_inter.gff"
   ]
  },
  {
   "cell_type": "code",
   "execution_count": null,
   "id": "eb6fb057",
   "metadata": {},
   "outputs": [],
   "source": [
    "%%bash\n",
    "awk '$3 == \"gene\"' file_inter.gff > gene_60k.gff"
   ]
  },
  {
   "cell_type": "markdown",
   "id": "c2c9773e",
   "metadata": {},
   "source": []
  },
  {
   "cell_type": "markdown",
   "id": "e86ab176",
   "metadata": {},
   "source": [
    "## ALIGNEMENT DES K-MERS SUR GENOME"
   ]
  },
  {
   "cell_type": "markdown",
   "id": "7933df01",
   "metadata": {},
   "source": [
    "Nous avons donc notre matrice de kmer différentiellement exprimée, on souhaite maintenant procéder à une étape de mapping. Pour se faire nous allons créer un fichier fastq artificielle à partir de nos kmers."
   ]
  },
  {
   "cell_type": "markdown",
   "id": "18f938ad",
   "metadata": {},
   "source": [
    "Pour se faire nous récupérons chaque k-mer, afin de créer un fichier fasta contenant en identifiant un numéro_k-mers et en séquence le k-mer."
   ]
  },
  {
   "cell_type": "markdown",
   "id": "f51a3986",
   "metadata": {},
   "source": [
    "### Création kmer.fastq"
   ]
  },
  {
   "cell_type": "markdown",
   "id": "03457b78",
   "metadata": {},
   "source": [
    "Ce script prend un fichier contenant les tags 'k-mer' et va créer un fichier fasta à partir des k-mers contenus dans le fichier d'entrée.\n",
    "\n",
    "Paramètre:  \n",
    "-i INPUT FILE  \n",
    "-o OUTPUT FILE  \n",
    "\n",
    "le fichier saisie avec le paramètre -i doit être de type tsv avec au minimum comme première colonne les tags 'kmers'. Le ficheir d'entrée peut ne pas contenir d'header, ou sinon l'header pour la colonnes des tags doit être contig ou tag\n",
    "\n",
    "La sortie DE-KUPL l'outils que nous avons utilisé pour les analyses précedetes fournis un format acceptable pour notre script notament pour les fichier diff-counts et raw_pvalues.tsv\n",
    "\n",
    "\n",
    "EXEMPLES INPUT:\n",
    "\n",
    "EX 1:  \n",
    "AAAAAAAAAAAAAAAAAAAAAAAAAAAAAAC  \n",
    "AAAAAAAAAAAAAAAAAAAAAAAAAAAAAGT  \n",
    "AAAAAAAAAAAAAAAAAAAAAAAAAAAAAGG  \n",
    "\n",
    "\n",
    "EX2:  \n",
    "tag  \n",
    "AAAAAAAAAAAAAAAAAAAAAAAAAAAAAAC  \n",
    "AAAAAAAAAAAAAAAAAAAAAAAAAAAAAGT  \n",
    "AAAAAAAAAAAAAAAAAAAAAAAAAAAAAGG  \n",
    "\n",
    "EX3:  \n",
    "contig  \n",
    "AAAAAAAAAAAAAAAAAAAAAAAAAAAAAAC  \n",
    "AAAAAAAAAAAAAAAAAAAAAAAAAAAAAGT  \n",
    "AAAAAAAAAAAAAAAAAAAAAAAAAAAAAGG  "
   ]
  },
  {
   "cell_type": "code",
   "execution_count": null,
   "id": "16b1f107",
   "metadata": {},
   "outputs": [],
   "source": [
    "%%bash\n",
    "input='diff-counts.tsv'\n",
    "output='kmer_DE.fasta'"
   ]
  },
  {
   "cell_type": "code",
   "execution_count": 1,
   "id": "435ac6d7",
   "metadata": {},
   "outputs": [
    {
     "ename": "NameError",
     "evalue": "name 'file_in' is not defined",
     "output_type": "error",
     "traceback": [
      "\u001b[0;31m---------------------------------------------------------------------------\u001b[0m",
      "\u001b[0;31mNameError\u001b[0m                                 Traceback (most recent call last)",
      "Cell \u001b[0;32mIn[1], line 1\u001b[0m\n\u001b[0;32m----> 1\u001b[0m \u001b[38;5;28;01mwith\u001b[39;00m \u001b[38;5;28mopen\u001b[39m(file_in, \u001b[38;5;124m'\u001b[39m\u001b[38;5;124mr\u001b[39m\u001b[38;5;124m'\u001b[39m) \u001b[38;5;28;01mas\u001b[39;00m b, \u001b[38;5;28mopen\u001b[39m(file_out, \u001b[38;5;124m'\u001b[39m\u001b[38;5;124mw\u001b[39m\u001b[38;5;124m'\u001b[39m) \u001b[38;5;28;01mas\u001b[39;00m f:\n\u001b[1;32m      3\u001b[0m     \u001b[38;5;28;01mfor\u001b[39;00m i \u001b[38;5;129;01min\u001b[39;00m \u001b[38;5;28mrange\u001b[39m(\u001b[38;5;241m0\u001b[39m, \u001b[38;5;28mint\u001b[39m(shape)):\n\u001b[1;32m      5\u001b[0m         contig \u001b[38;5;241m=\u001b[39m b\u001b[38;5;241m.\u001b[39mreadline()\u001b[38;5;241m.\u001b[39mrstrip()\n",
      "\u001b[0;31mNameError\u001b[0m: name 'file_in' is not defined"
     ]
    }
   ],
   "source": [
    "%%bash\n",
    "python fasta_to_kmer.py -i ${input} -o ${output}"
   ]
  },
  {
   "cell_type": "markdown",
   "id": "d1917697",
   "metadata": {},
   "source": [
    "Extrait du fichier fatsq possible:"
   ]
  },
  {
   "cell_type": "markdown",
   "id": "d8d1a06b",
   "metadata": {},
   "source": [
    ">1_tags_AAAAAAAAAAAAAAAAAAAAAAAAAAAAAAC  \n",
    "AAAAAAAAAAAAAAAAAAAAAAAAAAAAAAC  \n",
    ">2_tags_AAAAAAAAAAAAAAAAAAAAAAAAAAAAAAG  \n",
    "AAAAAAAAAAAAAAAAAAAAAAAAAAAAAAG  \n",
    ">3_tags_AAAAAAAAAAAAAAAAAAAAAAAAAAAAAAT  \n",
    "AAAAAAAAAAAAAAAAAAAAAAAAAAAAAAT  \n",
    ">4_tags_AAAAAAAAAAAAAAAAAAAAAAAAAAAAACA  \n",
    "AAAAAAAAAAAAAAAAAAAAAAAAAAAAACA  \n",
    ">5_tags_AAAAAAAAAAAAAAAAAAAAAAAAAAAAACC  \n",
    "AAAAAAAAAAAAAAAAAAAAAAAAAAAAACC  "
   ]
  },
  {
   "cell_type": "markdown",
   "id": "76948b85",
   "metadata": {},
   "source": [
    "Ensuite nous procédons à l'alignement des k-mers à partir du fichier fasta créé."
   ]
  },
  {
   "cell_type": "markdown",
   "id": "3f932426",
   "metadata": {},
   "source": [
    "## BWA aln"
   ]
  },
  {
   "cell_type": "markdown",
   "id": "7084dde4",
   "metadata": {},
   "source": [
    "Nous avons choisis d'utiliser bwa aln en fonction des performances de nos jeu de données, nous l'avons comparer avec bwa mem2. Etant donné qu'on travail avec des court reads (100 nt max). BWA aln est le plus adapté."
   ]
  },
  {
   "cell_type": "markdown",
   "id": "2377a445",
   "metadata": {},
   "source": [
    "Les inputs doivent contenir les chemins absolues des répertoires ou sont contenues la réferences et le fichier avec la séquence fasta des kmers.\n",
    "Les inputs peuvent être compréssé au format gz.\n",
    "\n",
    "Voici un exemple du format des entrées du script bwa.sh:\n",
    "\n",
    "ref => nas3:/data3/projects/integration/ref/REFPANG-CT.fasta\n",
    "\n",
    "fasta => nas3:/data3/projects/integration/rnaseq_riz/output/clean/testing/mapping_DE/kmer_DE.fasta.gz\n",
    "\n",
    "ATTENTION: Si vous êtes sur le cluster Itrop, il est impératif d'indiquer le nas dans lequel les données d'entrées se trouvent.\n"
   ]
  },
  {
   "cell_type": "code",
   "execution_count": null,
   "id": "cc8193b8",
   "metadata": {},
   "outputs": [],
   "source": [
    "%%bash\n",
    "sbash bwa.sh nas3:/data3/projects/integration/OglaRS2.ADWL02-allCtgsIRIGIN_TOG5681.dedup8095-NR.fasta nas3:/data3/projects/integration/rnaseq_riz/output/clean/testing/mapping_DE/kmer_DE.fasta.gz"
   ]
  },
  {
   "cell_type": "markdown",
   "id": "d217b83e",
   "metadata": {},
   "source": [
    "Voici le détail de ce que fait le code bwa.sh vous trouvrez les paramètres, ainsi que les outils utilisé."
   ]
  },
  {
   "cell_type": "raw",
   "id": "0fb84d2b",
   "metadata": {},
   "source": [
    "    #!/bin/bash\n",
    "\n",
    "    ##Configuration SLURM ########\n",
    "    ##on définit le nom du job \n",
    "    #SBATCH --job-name=BWA_ALN_kmer\n",
    "\n",
    "    ##définir la partition utilisée\n",
    "    #SBATCH -p highmem\n",
    "\n",
    "    ##définir le nombre de  à utiliser \n",
    "    #SBATCH -c 12\n",
    "\n",
    "    cd /scratch\n",
    "    mkdir -p ${USER}_${SLURM_JOB_ID}\n",
    "    cd ${USER}_${SLURM_JOB_ID}\n",
    "    mkdir -p output\n",
    "    cd output\n",
    "    ref=$1\n",
    "    fasta_kmer=$2\n",
    "\n",
    "    echo \"COPYING DATA\" \n",
    "\n",
    "    scp ${ref} .\n",
    "    scp ${fasta_kmer} .\n",
    "    \n",
    "##Recupére le nom des fichiers\n",
    "    fasta_kmer = $(basename ${fasta_kmer})\n",
    "    ref = $(basename ${ref})\n",
    "    path_output = $(realpath ${fasta_kmer})\n",
    "    path_output = $(dirname ${path_output})\n",
    "    \n",
    "    # GERER LES FICHIER AVEC EXTENSION GZIP\n",
    "    if (file ${fasta_kmer} | grep -q gzip ) ; then\n",
    "        echo \"UNCOMPRESSED ${fasta_kmer}\"\n",
    "        gzip -d ${fasta_kmer}\n",
    "        fasta_kmer = $(basename ${fasta_kmer} .gz)\n",
    "    fi\n",
    "    if (file ${ref} | grep -q gzip ) ; then\n",
    "        echo \"UNCOMPRESSED ${ref}\"\n",
    "        gzip -d ${ref}\n",
    "        ref = $(basename ${ref} .gz) \n",
    "    fi\n",
    "\n",
    "    ##Charger les logiciel à utiliser \n",
    "    module load bioinfo/samtools/1.9\n",
    "    module load bioinfo/bwamem2/2.2.1 \n",
    "\n",
    "    #INDEXATION DE A REF\n",
    "    bwa index -p index ${ref}\n",
    "\n",
    "    echo \"LANCEMENT BWA ALN\"\n",
    "    #LANCEMENT DE BWA ALN\n",
    "    extension=$(echo ${fasta_kmer#*.})\n",
    "    name_kmer = $(basename ${fasta_kmer} ${extension})\n",
    "    extension=$(echo ${ref#*.})\n",
    "    name_ref = $(basename ${ref} ${extension})\n",
    "    output = \"${name_ref}_VS_${name_kmer}\"\n",
    "\n",
    "    # LANCEMENT DE BWA ALN\n",
    "    # -l taille du reads (31)\n",
    "    # -n pourentage de taux d'erreur accepté lors du mapping\n",
    "    bwa aln -t 12 -l 31 -n 0.03 index ${fasta_kmer} > ${output}.sai\n",
    "\n",
    "    #CONVERSION SAI TO SAM\n",
    "    bwa samse index ${output}.sai ${fasta_kmer} -f ${output}.sam\n",
    "\n",
    "    #Etape : TRIE BAM\n",
    "    # -l niveau zero de compréssion gzip , @ niveau de threads\n",
    "    samtools sort -l O -@ 2 -o ${output}_sorted.bam ${output}.bam\n",
    "\n",
    "    # Etape: Recupération des kmers mappés (-F élimine le kmer avec tags choisis (4 unmapped))\n",
    "    samtools view -h -F 4 -b ${output}_sorted.bam > ${output}_sorted_mapped.bam\n",
    "\n",
    "    #Etape: Filtre avec mapq > 1 (map= 0, correspond aux kmers non mappés )\n",
    "    samtools view -h -q 1 -F 4 -b ${output}_sorted.bam > ${output}_sorted_mapped_mapQ.bam\n",
    "\n",
    "    #ETAPE: d'indexation du bam qu'on va garder\n",
    "    samtools index kmer_sorted_mapped.bam\n",
    "\n",
    "    #ETAPE: FLAGSTATS récupere le nombre de kmers mappés pour chacune des étapes précedentes\n",
    "    samtools flagstat ${output}_sorted.bam > ${output}_flagst.txt\n",
    "    samtools flagstat ${output}_sorted_mapped.bam > ${output}_mapped_flagst.txt\n",
    "    samtools flagstat ${output}_sorted_mapped_mapQ.bam > ${output}_mapped_mapQ_flagst.txt\n",
    "\n",
    "    tree .\n",
    "    ls -l \n",
    "    rm ${output}\n",
    "    rm index*\n",
    "    rm ${output}.sai\n",
    "    rm ${output}*.sam\n",
    "    rm ${output}_sorted.bam\n",
    "    rm ${output}_sorted_mapped.bam\n",
    "\n",
    "    #TRANSFERT DES RESULTATS\n",
    "    scp -r output ${path_output}"
   ]
  },
  {
   "cell_type": "markdown",
   "id": "758d0c27",
   "metadata": {},
   "source": [
    "### Association des k-mers aux gènes"
   ]
  },
  {
   "cell_type": "markdown",
   "id": "f1802763",
   "metadata": {},
   "source": [
    "Cette étape à pour but de d'asocier les k-mers aux gènes contenu dans le fichier d'annotation du génome, en créant un fichier de sortis au format bed.\n",
    "\n",
    "Pour l'étape d'intersect entre le fichier bam et le fichier gff, on utilise l'outils bedtools intersect."
   ]
  },
  {
   "cell_type": "markdown",
   "id": "19b985e2",
   "metadata": {},
   "source": [
    "Pour l'etape d'intersect on charge le module suivant:"
   ]
  },
  {
   "cell_type": "code",
   "execution_count": null,
   "id": "4804fc6b",
   "metadata": {},
   "outputs": [],
   "source": [
    "%%bash\n",
    "module load bioinfo/bedtools/2.30.0"
   ]
  },
  {
   "cell_type": "code",
   "execution_count": null,
   "id": "006eb3d1",
   "metadata": {},
   "outputs": [],
   "source": [
    "%%bash\n",
    "\n",
    "#DECLARATION DES VARIABLES\n",
    "#\n",
    "#à modifier selon vos données\n",
    "#\n",
    "bam=\"REFPANG-CT_VS_kmer_DE.bam\"\n",
    "genes_gff=\"gene_60k.gff\"\n",
    "output=\"REFPANG-CT_VS_kmer_DE_intersect_gene60k.bed\"\n",
    "\n",
    "#ETAPE: d'intersection entre le fichier d'annotation (gff) et le fichier bam qu'on vient de génerer\n",
    "# -abam fichier bam contenant le mapping des kmers\n",
    "# -b fichier d'annotation (gff)\n",
    "# -bed => sortie en format bed\n",
    "# -header garde les en-tête des fichier a et b d'entrée\n",
    "# -wb garde les informations du fichier d'entré b\n",
    "# -waq garde les informations du fichier d'entrée a\n",
    "\n",
    "bedtools intersect -abam ${bam} -b ${genes_gff} -bed -header -wb -wa > ${output}\n"
   ]
  },
  {
   "cell_type": "markdown",
   "id": "1498960d",
   "metadata": {},
   "source": [
    "## TRAITEMENT POST-DEKUPL"
   ]
  },
  {
   "cell_type": "markdown",
   "id": "ef2b8070",
   "metadata": {},
   "source": [
    "### Gene Analysis"
   ]
  },
  {
   "cell_type": "markdown",
   "id": "d78b553e",
   "metadata": {},
   "source": [
    "Dans cette partie nous allons traiter l'information au niveau du gène, comme par exemple le nombre de k-mers par gènes ou encore quel gène ont été associés à des k-mers."
   ]
  },
  {
   "cell_type": "markdown",
   "id": "9166a231",
   "metadata": {},
   "source": [
    "#### bedAnalysis"
   ]
  },
  {
   "cell_type": "markdown",
   "id": "cb037c30",
   "metadata": {},
   "source": [
    "Dans ce scirpt nous allons utilisé le fichier bed qui est créer suite à l'intersection entre le fichier d'annotation et notre fichier bam issus du mapping."
   ]
  },
  {
   "cell_type": "markdown",
   "id": "cb10ef14",
   "metadata": {},
   "source": [
    "Le fichier input doit être de la forme :  \n",
    "\n",
    "|Region kmer|Start kmer|Stop kmer|Tag|MapQ|Strand kmer|Start kmer|Stop kmer|?|?|CIGAR|?|Region gff|Type|Start Gene|Stop Gene|?|Strand Gene|?|ID|\n",
    "|-----------|----------|---------|---|----|-----------|----------|---------|-|-|-----|-|----------|----|----------|--------|-|-----------|-|--|\n",
    "|Chr01|7120|7151|32957537_tags_CGACGACTTCCCCACTAGGAAACACGACGGA|37|+|7120|7151|0,0,0|1|31,|0,|Chr01ensembl|gene|7074|14927|.|+|.|ID=Oglab_000002;Name=Oglab_000002;biotype=protein_coding;Note=Similar to RABGAP22: Rab GTPase-activating protein 22 (Arabidopsis thaliana OX%3D3702);Dbxref=InterPro:IPR000195,Pfam:PF00566;|\n",
    "|Chr01|7124|7155|14920424_tags_CGCCTCCGTCGTGTTTCCTAGTGGGGAAGTC|37|-|7124|7155|0,0,0|1|31,|0,|Chr01ensembl|gene|7074|14927|.|+|.|ID=Oglab_000002;Name=Oglab_000002;biotype=protein_coding;Note=Similar to RABGAP22: Rab GTPase-activating protein 22 (Arabidopsis thaliana OX%3D3702);Dbxref=InterPro:IPR000195,Pfam:PF00566;|"
   ]
  },
  {
   "cell_type": "markdown",
   "id": "e1d7586f",
   "metadata": {},
   "source": [
    "C'est un format de sortie fournie par bedtools intersect, en utilisant les paramètres décris dans la partie \"Association des k-mers aux gènes\". "
   ]
  },
  {
   "cell_type": "markdown",
   "id": "83f429c7",
   "metadata": {},
   "source": [
    "Le script bedAnalysis prend comme entrée un seul fichier au format bed. (exemple de la structure dans la cellules précedente)\n",
    "\n",
    "-b bed format file\n",
    "-s entry if in last colums have note (function, similar gene etc)\n",
    "-mapq choose your values mapq filtrer\n",
    "-o name of output tsv\n",
    "-k numbers of kmer reccurence for concidere a gene"
   ]
  },
  {
   "cell_type": "code",
   "execution_count": null,
   "id": "0a209d77",
   "metadata": {},
   "outputs": [],
   "source": [
    "%%bash\n",
    "kmer.bed = 'kmer_DE.bed'"
   ]
  },
  {
   "cell_type": "code",
   "execution_count": null,
   "id": "e94196cc",
   "metadata": {},
   "outputs": [],
   "source": [
    "%%bash\n",
    "python bed_Analysis.py -b kmer.bed -s -k 10 -o liste_kmer_gene_DE"
   ]
  },
  {
   "cell_type": "markdown",
   "id": "ac1c5bd8",
   "metadata": {},
   "source": [
    "#### Output"
   ]
  },
  {
   "cell_type": "markdown",
   "id": "8b140acf",
   "metadata": {},
   "source": [
    "Le script fournis une table contenant chaque région avec le nombre de gènes associés."
   ]
  },
  {
   "cell_type": "markdown",
   "id": "09e0478a",
   "metadata": {},
   "source": [
    "|REGIONS|nb_gene|\n",
    "|-------|-------|\n",
    "|AI_67745|1|\n",
    "|AK_86862|1|\n",
    "|CL_97942|1|\n",
    "|CP_155140|1|\n",
    "|Chr01|2448|\n",
    "|Chr02|2080|\n",
    "|Chr03|2344|\n",
    "|Chr04|1522|\n",
    "|Chr05|1442|\n"
   ]
  },
  {
   "cell_type": "markdown",
   "id": "b8b76e33",
   "metadata": {},
   "source": [
    "Et une seconde table contenant les k-mers associés à chaque régions."
   ]
  },
  {
   "cell_type": "markdown",
   "id": "f0ac54dc",
   "metadata": {},
   "source": [
    "|REGIONS|nb_kmer|\n",
    "|-------|-------|\n",
    "|AI_67745|18|\n",
    "|AK_86862|10|\n",
    "|AM_61996|7|\n",
    "|BE_99833|1|\n",
    "|CB_109929|1|\n",
    "|CL_97942|20|\n",
    "|CP_155140|108|\n",
    "|CS_116200|4|\n",
    "|Chr01|504228|\n"
   ]
  },
  {
   "cell_type": "markdown",
   "id": "b35d22de",
   "metadata": {},
   "source": [
    "Ainsi qu'un fichier TSV récapitulant l'ensemble des informations liés aux gènes.\n",
    "Comme la région, la taille du gène ou encore la fonctions et la famille traduite à partir du gène."
   ]
  },
  {
   "cell_type": "markdown",
   "id": "e75d10a4",
   "metadata": {},
   "source": [
    "|Gene|region|START|STOP|length|nb_kmers|Similar|Note|\n",
    "|----|------|-----|----|------|--------|-------|----|\n",
    "|Oglab_000002|Chr01|7074|14927|7853|162|RABGAP22|Similar to RABGAP22: Rab GTPase-activating protein 22 (Arabidopsis thaliana OX%3D3702)|\n",
    "|Oglab_000003|Chr01|14610|16167|1557|121|CYP734A1|Similar to CYP734A1: Cytochrome P450 734A1 (Arabidopsis thaliana OX%3D3702)|\n"
   ]
  },
  {
   "cell_type": "markdown",
   "id": "20db45e2",
   "metadata": {},
   "source": [
    "Une sortie plus visuelle est proposé, en utilisant en complément bedPlot.py du script bedAnalysis.py"
   ]
  },
  {
   "cell_type": "code",
   "execution_count": 3,
   "id": "fda39d14",
   "metadata": {
    "scrolled": true
   },
   "outputs": [
    {
     "name": "stderr",
     "output_type": "stream",
     "text": [
      "python: can't open file '/home/djamel/reproductibilite/test_git/integration/jupyter_directory/bedPlot.py': [Errno 2] No such file or directory\n"
     ]
    },
    {
     "ename": "CalledProcessError",
     "evalue": "Command 'b'python bedPlot.py -tsv {output_bedAnalysis.tsv} -colnames REGIONS nb_gene -baseChr Chr -baseUN ChrUN -o {outname}\\n'' returned non-zero exit status 2.",
     "output_type": "error",
     "traceback": [
      "\u001b[0;31m---------------------------------------------------------------------------\u001b[0m",
      "\u001b[0;31mCalledProcessError\u001b[0m                        Traceback (most recent call last)",
      "Cell \u001b[0;32mIn[3], line 1\u001b[0m\n\u001b[0;32m----> 1\u001b[0m get_ipython()\u001b[38;5;241m.\u001b[39mrun_cell_magic(\u001b[38;5;124m'\u001b[39m\u001b[38;5;124mbash\u001b[39m\u001b[38;5;124m'\u001b[39m, \u001b[38;5;124m'\u001b[39m\u001b[38;5;124m'\u001b[39m, \u001b[38;5;124m'\u001b[39m\u001b[38;5;124mpython bedPlot.py -tsv \u001b[39m\u001b[38;5;132;01m{output_bedAnalysis.tsv}\u001b[39;00m\u001b[38;5;124m -colnames REGIONS nb_gene -baseChr Chr -baseUN ChrUN -o \u001b[39m\u001b[38;5;132;01m{outname}\u001b[39;00m\u001b[38;5;130;01m\\n\u001b[39;00m\u001b[38;5;124m'\u001b[39m)\n",
      "File \u001b[0;32m~/miniconda3/envs/env-jup/lib/python3.11/site-packages/IPython/core/interactiveshell.py:2475\u001b[0m, in \u001b[0;36mInteractiveShell.run_cell_magic\u001b[0;34m(self, magic_name, line, cell)\u001b[0m\n\u001b[1;32m   2473\u001b[0m \u001b[38;5;28;01mwith\u001b[39;00m \u001b[38;5;28mself\u001b[39m\u001b[38;5;241m.\u001b[39mbuiltin_trap:\n\u001b[1;32m   2474\u001b[0m     args \u001b[38;5;241m=\u001b[39m (magic_arg_s, cell)\n\u001b[0;32m-> 2475\u001b[0m     result \u001b[38;5;241m=\u001b[39m fn(\u001b[38;5;241m*\u001b[39margs, \u001b[38;5;241m*\u001b[39m\u001b[38;5;241m*\u001b[39mkwargs)\n\u001b[1;32m   2477\u001b[0m \u001b[38;5;66;03m# The code below prevents the output from being displayed\u001b[39;00m\n\u001b[1;32m   2478\u001b[0m \u001b[38;5;66;03m# when using magics with decodator @output_can_be_silenced\u001b[39;00m\n\u001b[1;32m   2479\u001b[0m \u001b[38;5;66;03m# when the last Python token in the expression is a ';'.\u001b[39;00m\n\u001b[1;32m   2480\u001b[0m \u001b[38;5;28;01mif\u001b[39;00m \u001b[38;5;28mgetattr\u001b[39m(fn, magic\u001b[38;5;241m.\u001b[39mMAGIC_OUTPUT_CAN_BE_SILENCED, \u001b[38;5;28;01mFalse\u001b[39;00m):\n",
      "File \u001b[0;32m~/miniconda3/envs/env-jup/lib/python3.11/site-packages/IPython/core/magics/script.py:153\u001b[0m, in \u001b[0;36mScriptMagics._make_script_magic.<locals>.named_script_magic\u001b[0;34m(line, cell)\u001b[0m\n\u001b[1;32m    151\u001b[0m \u001b[38;5;28;01melse\u001b[39;00m:\n\u001b[1;32m    152\u001b[0m     line \u001b[38;5;241m=\u001b[39m script\n\u001b[0;32m--> 153\u001b[0m \u001b[38;5;28;01mreturn\u001b[39;00m \u001b[38;5;28mself\u001b[39m\u001b[38;5;241m.\u001b[39mshebang(line, cell)\n",
      "File \u001b[0;32m~/miniconda3/envs/env-jup/lib/python3.11/site-packages/IPython/core/magics/script.py:305\u001b[0m, in \u001b[0;36mScriptMagics.shebang\u001b[0;34m(self, line, cell)\u001b[0m\n\u001b[1;32m    300\u001b[0m \u001b[38;5;28;01mif\u001b[39;00m args\u001b[38;5;241m.\u001b[39mraise_error \u001b[38;5;129;01mand\u001b[39;00m p\u001b[38;5;241m.\u001b[39mreturncode \u001b[38;5;241m!=\u001b[39m \u001b[38;5;241m0\u001b[39m:\n\u001b[1;32m    301\u001b[0m     \u001b[38;5;66;03m# If we get here and p.returncode is still None, we must have\u001b[39;00m\n\u001b[1;32m    302\u001b[0m     \u001b[38;5;66;03m# killed it but not yet seen its return code. We don't wait for it,\u001b[39;00m\n\u001b[1;32m    303\u001b[0m     \u001b[38;5;66;03m# in case it's stuck in uninterruptible sleep. -9 = SIGKILL\u001b[39;00m\n\u001b[1;32m    304\u001b[0m     rc \u001b[38;5;241m=\u001b[39m p\u001b[38;5;241m.\u001b[39mreturncode \u001b[38;5;129;01mor\u001b[39;00m \u001b[38;5;241m-\u001b[39m\u001b[38;5;241m9\u001b[39m\n\u001b[0;32m--> 305\u001b[0m     \u001b[38;5;28;01mraise\u001b[39;00m CalledProcessError(rc, cell)\n",
      "\u001b[0;31mCalledProcessError\u001b[0m: Command 'b'python bedPlot.py -tsv {output_bedAnalysis.tsv} -colnames REGIONS nb_gene -baseChr Chr -baseUN ChrUN -o {outname}\\n'' returned non-zero exit status 2."
     ]
    }
   ],
   "source": [
    "%%bash\n",
    "python bedPlot.py -tsv {output_bedAnalysis.tsv} -colnames REGIONS nb_gene -baseChr Chr -baseUN ChrUN -o {outname}"
   ]
  },
  {
   "cell_type": "markdown",
   "id": "5f199336",
   "metadata": {},
   "source": [
    "### Association des valeurs statistique de chaque k-mers aux gènes"
   ]
  },
  {
   "cell_type": "markdown",
   "id": "e45ee0fa",
   "metadata": {},
   "source": [
    "Dans cette partie nous allons relier les valeurs statistiques des k-mers aux gènes. Comme le différentielle d'expression, ou encore la valeur de test statistique (pvalue)."
   ]
  },
  {
   "cell_type": "markdown",
   "id": "8491fc43",
   "metadata": {},
   "source": [
    "#### SelectedKmerIntoGenes.py"
   ]
  },
  {
   "cell_type": "markdown",
   "id": "1258bc37",
   "metadata": {},
   "source": [
    "Dans ce scirpt nous allons utilisé le fichier bed qui est créer suite à l'intersection entre le fichier d'annotation et notre fichier bam issus du mapping. Ainsi que la matrice obtenue par l'outil DEkupl, présenté dans la partie expression différentielle."
   ]
  },
  {
   "cell_type": "markdown",
   "id": "e3c65c6e",
   "metadata": {},
   "source": [
    "Exemple de structure du fichier diff-counts.tsv  \n",
    "\n",
    "|tag|pvalue|meanA|meanB|log2FC|RC1|RC2|RC3|RC5|RC6|RC7|RC8|RC9|RC10|RS1|RS2|RS3|RS4|RS5|RS6|RS7|RS8|RS10|\n",
    "|---|------|-----|-----|------|---|---|---|---|---|---|---|---|----|---|---|---|---|---|---|---|---|----|\n",
    "|AAAAAAAAAAAAAAAAAAAAAAAAAAAAAAC|4.20378804183321e-67|8.63539545864017|69.663581259201|3.02693059366878|6.21217947483477|4.88860953977233|8.72149434084036|9.16014388087816|8.69132810322318|12.8018115985836|13.9431607053845|5.89953533784795|7.40029614639669|74.9162700511193|72.4851902807309|71.7218111765533|68.6567983961772|60.9638382832583|72.5478816018572|63.5218693401627|68.9376846416892|73.2208875612604|\n",
    "|AAAAAAAAAAAAAAAAAAAAAAAAAAAAAGT|0.000219182949844764|0.498349895691011|5.337454146431|3.55810867156966|0|1.39674558279209|0|0|0|0|1.74289508817306|0|1.34550839025394|7.34473235795288|11.3702259263892|7.17218111765533|0|6.35039982117274|4.9464464728539|4.6479416590363|0\t6.20515996281868|\n"
   ]
  },
  {
   "cell_type": "markdown",
   "id": "8c1f092b",
   "metadata": {},
   "source": [
    "Le fichier en paramètre de -diff, doit contenir au minimum une colonne tag et une colonne pvalue. Le différentiel d'expression est falcultatif, lorsqu'il est renseigné permet d'obtenir un volcano plot ainsi que la moyenne et l'écart-type pour l'ensemble des k-mers associé à un gène. Si le différentiel d'epression n'est pas renséigné dans le fichier d'entré, le script se lance et avertir l'utilisateur qu'il n'y aura pas de volcanoPot, ni de calcul du différentiel d'expression. "
   ]
  },
  {
   "cell_type": "raw",
   "id": "0f87e891",
   "metadata": {},
   "source": [
    "optional arguments:\n",
    "  -h, --help            show this help message and exit\n",
    "  -diff DIFF, --diff DIFF\n",
    "                        File with pvlaue and logFoldChange after DE analysis, the file should have pvalue and log2FC name\n",
    "                        of colums or only pvalue header for DE analysis\n",
    "  -b BED, --bed BED     Bed file from bedtools intersect, the format of tags should be 12354_tags_AATTATTT or AATTAAT\n",
    "  -s, --similar         Create a column called Similar if this word is found in bed file, [default: no activate]\n",
    "  -o OUTPUT, --output OUTPUT\n",
    "                        output file name without extension, [default -o = GENE_INTERSECT]\n",
    "  -mapq MAPQ, --mapq MAPQ\n",
    "                        mapq filter values, [default mapq = 15]\n",
    "  -k NBKMER, --nbkmer NBKMER\n",
    "                        numbers of kmer reccurence for concidere a gene, [default k = 10]\n",
    "  -chunk CHUNK, --chunk CHUNK\n",
    "                        Nb of kmer DE are selected by group, [default 100 000]\n",
    "  -baseChr BASECHR, --baseChr BASECHR\n",
    "                        Given the prefix of Chromosomes names in your samples\n",
    "  -baseUN BASEUN, --baseUN BASEUN\n",
    "                        Given the prefix of Unknown Chromosomes names in your samples"
   ]
  },
  {
   "cell_type": "code",
   "execution_count": null,
   "id": "858b95ab",
   "metadata": {},
   "outputs": [],
   "source": [
    "%%bash\n",
    "python SelectedKmerIntoGene.py [-diff DIFF] [-b BED] [-s] [-o OUTPUT] [-mapq MAPQ] [-k NBKMER] [-chunk CHUNK]\n",
    "                               [-baseChr BASECHR] [-baseUN BASEUN]"
   ]
  },
  {
   "cell_type": "markdown",
   "id": "ea092ddb",
   "metadata": {},
   "source": [
    "#### Output"
   ]
  },
  {
   "cell_type": "markdown",
   "id": "5228af5d",
   "metadata": {},
   "source": [
    "Le script fourni un fichier tsv en sortie. Contenant les information liés au gènes comme la médian des pvalue de chaque k-mers, la moyenne du différentielle d'expression (log2FC), le nombre de k-mers associé, des notes du gène."
   ]
  },
  {
   "cell_type": "markdown",
   "id": "eeb38afb",
   "metadata": {},
   "source": [
    "|Gene|region|START|STOP|length|nb_kmers|medianne_Pval|min_Pval|mean_Log2FC|sd_Log2FC|Similar|Note|\n",
    "|----|------|-----|----|------|--------|-------------|--------|-----------|---------|-------|----|\n",
    "Oglab_000002|Chr01|7074|\t14927|\t7853|\t162|\t4.6209119498895747e-07|\t8.64812585511708e-13|\t-0.8874876541405748|\t4.163574256963421|\tRABGAP22|Similar to RABGAP22: Rab GTPase-activating protein 22 (Arabidopsis thaliana OX%3D3702)|\n",
    "|Oglab_000003|\tChr01|\t14610|\t16167|\t1557|\t121|\t5.60450520898466e-08|\t8.64812585511708e-13|\t-0.9884863660805971|\t4.623170079687324|\tCYP734A1|Similar to CYP734A1: Cytochrome P450 734A1 (Arabidopsis thaliana OX%3D3702)|"
   ]
  },
  {
   "cell_type": "markdown",
   "id": "22613833",
   "metadata": {},
   "source": [
    "# Approche RNA-seq classique"
   ]
  },
  {
   "cell_type": "markdown",
   "id": "34167b39",
   "metadata": {},
   "source": [
    "Cette partie a été réalisé par mon encadrante de stage, Julie Orjuela."
   ]
  },
  {
   "cell_type": "markdown",
   "id": "c5b690cc",
   "metadata": {},
   "source": [
    "Nous avons utilisé TOGGle qui est une suite d'outils capables de concevoir des pipelines qui gèrent de grands ensembles de logiciels et d'utilitaires NGS."
   ]
  },
  {
   "cell_type": "markdown",
   "id": "8befad8f",
   "metadata": {},
   "source": [
    "Voici le code utilisé pour lancer TOGGle:"
   ]
  },
  {
   "cell_type": "raw",
   "id": "36533264",
   "metadata": {},
   "source": [
    "#!/bin/bash -l\n",
    "#SBATCH -J TOGGLeRNASeq\n",
    "#SBATCH --export=ALL\n",
    "#SBATCH -e toggle.\"%j\".err\n",
    "#SBATCH -o toggle.\"%j\".out\n",
    "#SBATCH -p highmem\n",
    "#SBATCH --nodelist=node27\n",
    "\n",
    "# Defining my project and destination repertories\n",
    "REP=\"/scratch/orjuela_arcad_rnaseq\"\n",
    "dir=\"$REP/FASTQ\"\n",
    "out=\"$REP/OUTPUT_TOGGLE-H2SSM\"\n",
    "config=\"$REP/config_toggle.txt\"\n",
    "ref=\"$REP/REF/REFPANG-CT.fasta\"\n",
    "gff=\"$REP/REF/REFPANG-CT.gff\"\n",
    "\n",
    "# Software-specific settings exported to user environment\n",
    "module load bioinfo/TOGGLE-dev/0.3.7\n",
    "\n",
    "# running tooglegenerator\n",
    "toggleGenerator.pl -d $dir -c $config -r $ref -g $gff -o $out --report --nocheck;\n"
   ]
  },
  {
   "cell_type": "raw",
   "id": "b47825a3",
   "metadata": {},
   "source": [
    "Il prend en entré un fichier de configuration, où sont mentionné les outils choisi, leur ordre et les paramètres de chaque outil."
   ]
  },
  {
   "cell_type": "markdown",
   "id": "b1f8240f",
   "metadata": {},
   "source": [
    "Voici le fichier de configuration que nous avons utilisé pour notre analyse RNA-seq classique:  config_toggle.txt"
   ]
  },
  {
   "cell_type": "raw",
   "id": "1b988932",
   "metadata": {},
   "source": [
    "$order\n",
    "1=hisat2\n",
    "2=samtoolsView\n",
    "3=samtoolsSort\n",
    "4=stringtie\n",
    "\n",
    "$hisat2\n",
    "--dta\n",
    "\n",
    "$samtoolsview\n",
    "-b\n",
    "-h\n",
    "\n",
    "$stringtie\n",
    "-e\n",
    "-B\n",
    "\n",
    "$slurm\n",
    "--job-name=TOGGLe\n",
    "--partition highmem\n",
    "--nodelist=node27\n",
    "\n",
    "#$scp\n",
    "#/scratch/\n",
    "\n",
    "$env\n",
    "module load bioinfo/TOGGLE-dev/0.3.7\n"
   ]
  },
  {
   "cell_type": "markdown",
   "id": "e7ee1965",
   "metadata": {},
   "source": [
    "Ensuite nous avons efféctué une analyse expression différentielle. Avec l'outil DESeq2 sur nos coptages RNA-seq obtenue."
   ]
  },
  {
   "cell_type": "markdown",
   "id": "dea4b560",
   "metadata": {},
   "source": [
    "### Analyse DESeq2"
   ]
  },
  {
   "cell_type": "markdown",
   "id": "bdc89e36",
   "metadata": {},
   "source": [
    "Pour l'analyse de l'expression différentielle, nous avons utilisé la méthode DEkupl et une méthode DESeq2 classique."
   ]
  },
  {
   "cell_type": "markdown",
   "id": "b5db1462",
   "metadata": {},
   "source": [
    "#### Méthode DEkupl"
   ]
  },
  {
   "cell_type": "markdown",
   "id": "472574ce",
   "metadata": {},
   "source": [
    "Nous avons utilisé les mêmes outils et méthode proposée par DEkupl."
   ]
  },
  {
   "cell_type": "markdown",
   "id": "0ba286c2",
   "metadata": {},
   "source": [
    "Il prend en entrée une matrice de comptage non normalisée, ainsi qu'un fichier csv avec les conditions de chaque échantillons.\n",
    "\n",
    "Le fichier contient en première colonnes les échantillons et en seconde les conditions."
   ]
  },
  {
   "cell_type": "markdown",
   "id": "f064716c",
   "metadata": {},
   "source": [
    "|SAMPLES|CONDITIONS|\n",
    "|-------|----------|\n",
    "|RC1|RC|\n",
    "|RC2|RC|\n",
    "|RC3|RC|\n",
    "|RC5|RC|\n",
    "|RC6|RC|\n",
    "|RC7|RC|\n",
    "|RC8|RC|\n",
    "|RC9|RC|\n",
    "|RC10|RC|\n",
    "|RS1|RS|\n",
    "|RS2|RS|\n",
    "|RS3|RS|\n",
    "|RS4|RS|\n",
    "|RS5|RS|\n",
    "|RS6|RS|\n",
    "|RS7|RS|\n",
    "|RS8|RS|"
   ]
  },
  {
   "cell_type": "markdown",
   "id": "c84c746c",
   "metadata": {},
   "source": [
    "Ensuite l'utilisateur doit saisir les seuil de pvalue et de différentielle d'expression et en dernier paramètre le nom du fichier de sortie."
   ]
  },
  {
   "cell_type": "markdown",
   "id": "978150ff",
   "metadata": {},
   "source": [
    "La ligne de commande:"
   ]
  },
  {
   "cell_type": "code",
   "execution_count": 5,
   "id": "8a19c75b",
   "metadata": {},
   "outputs": [
    {
     "name": "stderr",
     "output_type": "stream",
     "text": [
      "bash: ligne 1: singularity : commande introuvable\n"
     ]
    },
    {
     "ename": "CalledProcessError",
     "evalue": "Command 'b'singularity exec dekupl-run.simg Rscript deseq2.r gene_count_JO_matrix.tsv sample_condition_JO.tsv 0.05 2 RC RS diff_raws_counts.tsv\\n'' returned non-zero exit status 127.",
     "output_type": "error",
     "traceback": [
      "\u001b[0;31m---------------------------------------------------------------------------\u001b[0m",
      "\u001b[0;31mCalledProcessError\u001b[0m                        Traceback (most recent call last)",
      "Cell \u001b[0;32mIn[5], line 1\u001b[0m\n\u001b[0;32m----> 1\u001b[0m get_ipython()\u001b[38;5;241m.\u001b[39mrun_cell_magic(\u001b[38;5;124m'\u001b[39m\u001b[38;5;124mbash\u001b[39m\u001b[38;5;124m'\u001b[39m, \u001b[38;5;124m'\u001b[39m\u001b[38;5;124m'\u001b[39m, \u001b[38;5;124m'\u001b[39m\u001b[38;5;124msingularity exec dekupl-run.simg Rscript deseq2.r gene_count_JO_matrix.tsv sample_condition_JO.tsv 0.05 2 RC RS diff_raws_counts.tsv\u001b[39m\u001b[38;5;130;01m\\n\u001b[39;00m\u001b[38;5;124m'\u001b[39m)\n",
      "File \u001b[0;32m~/miniconda3/envs/env-jup/lib/python3.11/site-packages/IPython/core/interactiveshell.py:2475\u001b[0m, in \u001b[0;36mInteractiveShell.run_cell_magic\u001b[0;34m(self, magic_name, line, cell)\u001b[0m\n\u001b[1;32m   2473\u001b[0m \u001b[38;5;28;01mwith\u001b[39;00m \u001b[38;5;28mself\u001b[39m\u001b[38;5;241m.\u001b[39mbuiltin_trap:\n\u001b[1;32m   2474\u001b[0m     args \u001b[38;5;241m=\u001b[39m (magic_arg_s, cell)\n\u001b[0;32m-> 2475\u001b[0m     result \u001b[38;5;241m=\u001b[39m fn(\u001b[38;5;241m*\u001b[39margs, \u001b[38;5;241m*\u001b[39m\u001b[38;5;241m*\u001b[39mkwargs)\n\u001b[1;32m   2477\u001b[0m \u001b[38;5;66;03m# The code below prevents the output from being displayed\u001b[39;00m\n\u001b[1;32m   2478\u001b[0m \u001b[38;5;66;03m# when using magics with decodator @output_can_be_silenced\u001b[39;00m\n\u001b[1;32m   2479\u001b[0m \u001b[38;5;66;03m# when the last Python token in the expression is a ';'.\u001b[39;00m\n\u001b[1;32m   2480\u001b[0m \u001b[38;5;28;01mif\u001b[39;00m \u001b[38;5;28mgetattr\u001b[39m(fn, magic\u001b[38;5;241m.\u001b[39mMAGIC_OUTPUT_CAN_BE_SILENCED, \u001b[38;5;28;01mFalse\u001b[39;00m):\n",
      "File \u001b[0;32m~/miniconda3/envs/env-jup/lib/python3.11/site-packages/IPython/core/magics/script.py:153\u001b[0m, in \u001b[0;36mScriptMagics._make_script_magic.<locals>.named_script_magic\u001b[0;34m(line, cell)\u001b[0m\n\u001b[1;32m    151\u001b[0m \u001b[38;5;28;01melse\u001b[39;00m:\n\u001b[1;32m    152\u001b[0m     line \u001b[38;5;241m=\u001b[39m script\n\u001b[0;32m--> 153\u001b[0m \u001b[38;5;28;01mreturn\u001b[39;00m \u001b[38;5;28mself\u001b[39m\u001b[38;5;241m.\u001b[39mshebang(line, cell)\n",
      "File \u001b[0;32m~/miniconda3/envs/env-jup/lib/python3.11/site-packages/IPython/core/magics/script.py:305\u001b[0m, in \u001b[0;36mScriptMagics.shebang\u001b[0;34m(self, line, cell)\u001b[0m\n\u001b[1;32m    300\u001b[0m \u001b[38;5;28;01mif\u001b[39;00m args\u001b[38;5;241m.\u001b[39mraise_error \u001b[38;5;129;01mand\u001b[39;00m p\u001b[38;5;241m.\u001b[39mreturncode \u001b[38;5;241m!=\u001b[39m \u001b[38;5;241m0\u001b[39m:\n\u001b[1;32m    301\u001b[0m     \u001b[38;5;66;03m# If we get here and p.returncode is still None, we must have\u001b[39;00m\n\u001b[1;32m    302\u001b[0m     \u001b[38;5;66;03m# killed it but not yet seen its return code. We don't wait for it,\u001b[39;00m\n\u001b[1;32m    303\u001b[0m     \u001b[38;5;66;03m# in case it's stuck in uninterruptible sleep. -9 = SIGKILL\u001b[39;00m\n\u001b[1;32m    304\u001b[0m     rc \u001b[38;5;241m=\u001b[39m p\u001b[38;5;241m.\u001b[39mreturncode \u001b[38;5;129;01mor\u001b[39;00m \u001b[38;5;241m-\u001b[39m\u001b[38;5;241m9\u001b[39m\n\u001b[0;32m--> 305\u001b[0m     \u001b[38;5;28;01mraise\u001b[39;00m CalledProcessError(rc, cell)\n",
      "\u001b[0;31mCalledProcessError\u001b[0m: Command 'b'singularity exec dekupl-run.simg Rscript deseq2.r gene_count_JO_matrix.tsv sample_condition_JO.tsv 0.05 2 RC RS diff_raws_counts.tsv\\n'' returned non-zero exit status 127."
     ]
    }
   ],
   "source": [
    "%% bash\n",
    "singularity exec dekupl-run.simg Rscript deseq2.r gene_count_JO_matrix.tsv sample_condition_JO.tsv 0.05 2 RC RS diff_raws_counts.tsv\n"
   ]
  },
  {
   "cell_type": "markdown",
   "id": "a5f7cc71",
   "metadata": {},
   "source": [
    "#### Output"
   ]
  },
  {
   "cell_type": "markdown",
   "id": "70b0bbfe",
   "metadata": {},
   "source": [
    "|ID|pvalue|\tmeanA|meanB|log2FC|RC1\t|RC10\t|RC2|\tRC3|\tRC5|\tRC6|\tRC7|\tRC8|\tRC9|\tRS1|\tRS10|\tRS2|\tRS3|\tRS4|\tRS5|\tRS6|\tRS7|\tRS8|\n",
    "|--|----------|------|-------|--------|------|----|-----|------|-------|-------|-------|---------|-------|------|--------|-------|------|----|-----|------|-------|-------|\n",
    "|Oglab_000896|\t0.00015174035566483|\t15.3992509185483|\t1.34442836511834| 3.54652249966555|\t15.7587397102201|\t17.1151572897798|\t16.5033869769884|\t17.4675799610352|\t17.569253647919\t|11.1482208807883|\t13.2423179777814|\t20.3047192597427|\t9.48388256267999|\t12.09985528606510|\t0|\t0|\t0|\t0\t|0\t|0|\t0|\n",
    "|Oglab_000944|\t0.0102792134490542|\t6.68992321984196|\t30.1108636235403|2.18007977253502|\t4.2978381027873|\t9.33554033987988|\t6.287004562662240|\t4.88034823553306|\t0\t|10.9054383346435|\t8.12188770389709|16.3812516991745|\t44.3661360489054|\t94.7350464107319|\t9.28156985420951|\t19.8066977721898|\t33.5739023184836|\t8.16627931722220|21.2269406247195\t|39.8412002654004|"
   ]
  },
  {
   "cell_type": "markdown",
   "id": "9db5ff2c",
   "metadata": {},
   "source": [
    "#### Méthode DESeq2 classique"
   ]
  },
  {
   "cell_type": "markdown",
   "id": "75bc27c7",
   "metadata": {},
   "source": [
    "Pour la méthode DESeq2 classique, on utilise les mêmes paramètres, les mêmes format de fichier, c'est le traitement au niveau de l'objet DESeq2 qui change."
   ]
  },
  {
   "cell_type": "markdown",
   "id": "b12143e4",
   "metadata": {},
   "source": [
    "La ligne de commande:"
   ]
  },
  {
   "cell_type": "code",
   "execution_count": null,
   "id": "4859f942",
   "metadata": {},
   "outputs": [],
   "source": [
    "%% bash\n",
    "singularity exec dekupl-run.simg Rscript verif_deseq2.r gene_count_JO_matrix.tsv sample_condition_JO.tsv 0.05 2 RC RS diff_raws_counts.tsv"
   ]
  },
  {
   "cell_type": "markdown",
   "id": "0a384698",
   "metadata": {},
   "source": [
    "#### Output"
   ]
  },
  {
   "cell_type": "markdown",
   "id": "c1805e4f",
   "metadata": {},
   "source": [
    "|ID|pvalue|\tmeanA|meanB|log2FC|RC1\t|RC10\t|RC2|\tRC3|\tRC5|\tRC6|\tRC7|\tRC8|\tRC9|\tRS1|\tRS10|\tRS2|\tRS3|\tRS4|\tRS5|\tRS6|\tRS7|\tRS8|\n",
    "|--|----------|------|-------|--------|------|----|-----|------|-------|-------|-------|---------|-------|------|--------|-------|------|----|-----|------|-------|-------|\n",
    "|Oglab_000896|\t0.00015174035566483|\t15.3992509185483|\t1.34442836511834| 3.54652249966555|\t15.7587397102201|\t17.1151572897798|\t16.5033869769884|\t17.4675799610352|\t17.569253647919\t|11.1482208807883|\t13.2423179777814|\t20.3047192597427|\t9.48388256267999|\t12.09985528606510|\t0|\t0|\t0|\t0\t|0\t|0|\t0|\n",
    "|Oglab_000944|\t0.0102792134490542|\t6.68992321984196|\t30.1108636235403|2.18007977253502|\t4.2978381027873|\t9.33554033987988|\t6.287004562662240|\t4.88034823553306|\t0\t|10.9054383346435|\t8.12188770389709|16.3812516991745|\t44.3661360489054|\t94.7350464107319|\t9.28156985420951|\t19.8066977721898|\t33.5739023184836|\t8.16627931722220|21.2269406247195\t|39.8412002654004|"
   ]
  },
  {
   "cell_type": "markdown",
   "id": "1015e1ab",
   "metadata": {},
   "source": [
    "### Identification des gènes communs aux analyse"
   ]
  },
  {
   "cell_type": "markdown",
   "id": "34ba7a0c",
   "metadata": {},
   "source": [
    "#### Intersection des fichiers tabulés contenant les gènes identifiès"
   ]
  },
  {
   "cell_type": "markdown",
   "id": "fb251e69",
   "metadata": {},
   "source": [
    "On croise des fichiers au format stv, contenant au minimum une colonne contenant les varibles utilisé pour le croisement des fichiers.\n",
    "Elle doit être le première colonne dans les deux fichiers croisé.\n",
    "L'ordre et le nom des autres colonnes importe peu.\n",
    "\n",
    "Mais il est important d'avoir en première colonne la variable qu'on souhaite croisé dans les deux fichiers.\n",
    "Le nom de la colonne n'a pas d'impact."
   ]
  },
  {
   "cell_type": "markdown",
   "id": "62bd13e7",
   "metadata": {},
   "source": [
    "Fichier 1:"
   ]
  },
  {
   "cell_type": "markdown",
   "id": "909e11da",
   "metadata": {},
   "source": [
    "|ID|pvalue|\n",
    "|---|------|\n",
    "|Oglab_000896|\t0.00015174035566483\t|\n",
    "|Oglab_000944|\t0.0102792134490542\t|"
   ]
  },
  {
   "cell_type": "markdown",
   "id": "9147ec18",
   "metadata": {},
   "source": [
    "Fichier 2:"
   ]
  },
  {
   "cell_type": "markdown",
   "id": "36a84b27",
   "metadata": {},
   "source": [
    "|Gene|moyenne|\n",
    "|----|-------|\n",
    "|Oglab_000003|\t10|\n",
    "|Oglab_000004|\t5\t|"
   ]
  },
  {
   "cell_type": "markdown",
   "id": "7c140702",
   "metadata": {},
   "source": [
    "Voici la ligne de code nécessaire:\n"
   ]
  },
  {
   "cell_type": "code",
   "execution_count": null,
   "id": "85719240",
   "metadata": {},
   "outputs": [],
   "source": [
    "%% bash\n",
    " python Intersect.py -wb diff_counts.tsv -wa filter_pvalue_log.tsv  "
   ]
  },
  {
   "cell_type": "markdown",
   "id": "74a6f6e7",
   "metadata": {},
   "source": [
    "#### Output"
   ]
  },
  {
   "cell_type": "markdown",
   "id": "f87062a6",
   "metadata": {},
   "source": [
    "On obtient un fichier tsv qui contient l'ensemble des informations lié au gène. "
   ]
  },
  {
   "cell_type": "markdown",
   "id": "cff3af5a",
   "metadata": {},
   "source": [
    "|Gene|\t\tpvalue|ID|\tmoyenne|\t\n",
    "|----|----------------|---------|-------|\n",
    "|maker-MH_352828-exonerate_protein2genome-gene-0.0|\t7.34906480821365e-06|maker-MH_352828-exonerate_protein2genome-gene-0.0\t|12.14500539839015|\t\n"
   ]
  }
 ],
 "metadata": {
  "kernelspec": {
   "display_name": "Python 3 (ipykernel)",
   "language": "python",
   "name": "python3"
  },
  "language_info": {
   "codemirror_mode": {
    "name": "ipython",
    "version": 3
   },
   "file_extension": ".py",
   "mimetype": "text/x-python",
   "name": "python",
   "nbconvert_exporter": "python",
   "pygments_lexer": "ipython3",
   "version": "3.11.3"
  }
 },
 "nbformat": 4,
 "nbformat_minor": 5
}
